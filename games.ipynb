{
 "cells": [
  {
   "cell_type": "code",
   "execution_count": 1,
   "metadata": {
    "scrolled": true
   },
   "outputs": [],
   "source": [
    "import pandas as pd\n",
    "import numpy as np"
   ]
  },
  {
   "cell_type": "code",
   "execution_count": 2,
   "metadata": {},
   "outputs": [],
   "source": [
    "def deleteSomeColumns(listColumns,df):\n",
    "    for i in listColumns:\n",
    "        df= df.drop(columns=i)\n",
    "    return df\n",
    "\n",
    "def categoryOnly(df, key):\n",
    "    category = []\n",
    "    for i in df['Category']:\n",
    "        if type(i) != float: #not NaN\n",
    "            if (key in i.upper() ) and (i not in category):\n",
    "                category.append(i)\n",
    "    return category\n",
    "\n",
    "def dfOnly(dfALL,categories):\n",
    "    column_names = list(dfALL.columns)\n",
    "    dfOnly = pd.DataFrame(columns = column_names)\n",
    "    for i in categories:\n",
    "        df = dfALL.loc[dfALL['Category'] == i] ## loc overwrite\n",
    "        dfOnly = dfOnly.append(df, ignore_index = True) \n",
    "    return dfOnly\n",
    "\n",
    "def FreeGames(dfG):\n",
    "    df = dfG.loc[dfG['Price'] == '0']\n",
    "    return df\n",
    "\n",
    "def sizeDF(df):\n",
    "    size = df.size / df.columns.size\n",
    "    return(size)\n",
    "\n",
    "def strToFloat(df,column):\n",
    "    i=0\n",
    "    while i < sizeDF(df):\n",
    "        df[column][i] = df[column][i].replace('+','') \n",
    "        df[column][i] = df[column][i].replace(',','') \n",
    "        #df[column][i] = float(df[column][i])\n",
    "        i+=1\n",
    "    #df[column] = df[column].astype(float)\n",
    "    return df"
   ]
  },
  {
   "cell_type": "markdown",
   "metadata": {},
   "source": [
    "# Google Play Store Apps Info\n",
    "> From this [KaggleDatasets](https://kaggle.com/gauthamp10/google-playstore-apps?utm_medium=social&utm_campaign=kaggle-dataset-share&utm_source=twitter)"
   ]
  },
  {
   "cell_type": "code",
   "execution_count": 3,
   "metadata": {},
   "outputs": [
    {
     "name": "stderr",
     "output_type": "stream",
     "text": [
      "/home/naftalima/.local/lib/python3.6/site-packages/IPython/core/interactiveshell.py:3063: DtypeWarning: Columns (2,3,11,12,13) have mixed types.Specify dtype option on import or set low_memory=False.\n",
      "  interactivity=interactivity, compiler=compiler, result=result)\n"
     ]
    },
    {
     "data": {
      "text/html": [
       "<div>\n",
       "<style scoped>\n",
       "    .dataframe tbody tr th:only-of-type {\n",
       "        vertical-align: middle;\n",
       "    }\n",
       "\n",
       "    .dataframe tbody tr th {\n",
       "        vertical-align: top;\n",
       "    }\n",
       "\n",
       "    .dataframe thead th {\n",
       "        text-align: right;\n",
       "    }\n",
       "</style>\n",
       "<table border=\"1\" class=\"dataframe\">\n",
       "  <thead>\n",
       "    <tr style=\"text-align: right;\">\n",
       "      <th></th>\n",
       "      <th>App Name</th>\n",
       "      <th>Category</th>\n",
       "      <th>Rating</th>\n",
       "      <th>Reviews</th>\n",
       "      <th>Installs</th>\n",
       "      <th>Size</th>\n",
       "      <th>Price</th>\n",
       "      <th>Content Rating</th>\n",
       "      <th>Last Updated</th>\n",
       "      <th>Minimum Version</th>\n",
       "      <th>Latest Version</th>\n",
       "    </tr>\n",
       "  </thead>\n",
       "  <tbody>\n",
       "    <tr>\n",
       "      <th>0</th>\n",
       "      <td>DoorDash - Food Delivery</td>\n",
       "      <td>FOOD_AND_DRINK</td>\n",
       "      <td>4.548561573</td>\n",
       "      <td>305034</td>\n",
       "      <td>5,000,000+</td>\n",
       "      <td>Varies with device</td>\n",
       "      <td>0</td>\n",
       "      <td>Everyone</td>\n",
       "      <td>March 29, 2019</td>\n",
       "      <td>Varies with device</td>\n",
       "      <td>Varies with device</td>\n",
       "    </tr>\n",
       "    <tr>\n",
       "      <th>1</th>\n",
       "      <td>TripAdvisor Hotels Flights Restaurants Attract...</td>\n",
       "      <td>TRAVEL_AND_LOCAL</td>\n",
       "      <td>4.400671482</td>\n",
       "      <td>1.20792e+06</td>\n",
       "      <td>100,000,000+</td>\n",
       "      <td>Varies with device</td>\n",
       "      <td>0</td>\n",
       "      <td>Everyone</td>\n",
       "      <td>March 29, 2019</td>\n",
       "      <td>Varies with device</td>\n",
       "      <td>Varies with device</td>\n",
       "    </tr>\n",
       "    <tr>\n",
       "      <th>2</th>\n",
       "      <td>Peapod</td>\n",
       "      <td>SHOPPING</td>\n",
       "      <td>3.656329393</td>\n",
       "      <td>1967</td>\n",
       "      <td>100,000+</td>\n",
       "      <td>1.4M</td>\n",
       "      <td>0</td>\n",
       "      <td>Everyone</td>\n",
       "      <td>September 20, 2018</td>\n",
       "      <td>5.0 and up</td>\n",
       "      <td>2.2.0</td>\n",
       "    </tr>\n",
       "    <tr>\n",
       "      <th>3</th>\n",
       "      <td>foodpanda - Local Food Delivery</td>\n",
       "      <td>FOOD_AND_DRINK</td>\n",
       "      <td>4.107232571</td>\n",
       "      <td>389154</td>\n",
       "      <td>10,000,000+</td>\n",
       "      <td>16M</td>\n",
       "      <td>0</td>\n",
       "      <td>Everyone</td>\n",
       "      <td>March 22, 2019</td>\n",
       "      <td>4.2 and up</td>\n",
       "      <td>4.18.2</td>\n",
       "    </tr>\n",
       "    <tr>\n",
       "      <th>4</th>\n",
       "      <td>My CookBook Pro (Ad Free)</td>\n",
       "      <td>FOOD_AND_DRINK</td>\n",
       "      <td>4.647752285</td>\n",
       "      <td>2291</td>\n",
       "      <td>10,000+</td>\n",
       "      <td>Varies with device</td>\n",
       "      <td>$5.99</td>\n",
       "      <td>Everyone</td>\n",
       "      <td>April 1, 2019</td>\n",
       "      <td>Varies with device</td>\n",
       "      <td>Varies with device</td>\n",
       "    </tr>\n",
       "    <tr>\n",
       "      <th>5</th>\n",
       "      <td>Safeway Online Shopping</td>\n",
       "      <td>FOOD_AND_DRINK</td>\n",
       "      <td>3.82532239</td>\n",
       "      <td>2559</td>\n",
       "      <td>100,000+</td>\n",
       "      <td>23M</td>\n",
       "      <td>0</td>\n",
       "      <td>Everyone</td>\n",
       "      <td>March 29, 2019</td>\n",
       "      <td>5.0 and up</td>\n",
       "      <td>7.6.0</td>\n",
       "    </tr>\n",
       "    <tr>\n",
       "      <th>6</th>\n",
       "      <td>Yelp: Food, Shopping, Services Nearby</td>\n",
       "      <td>TRAVEL_AND_LOCAL</td>\n",
       "      <td>4.267267704</td>\n",
       "      <td>421918</td>\n",
       "      <td>10,000,000+</td>\n",
       "      <td>Varies with device</td>\n",
       "      <td>0</td>\n",
       "      <td>Teen</td>\n",
       "      <td>March 28, 2019</td>\n",
       "      <td>Varies with device</td>\n",
       "      <td>Varies with device</td>\n",
       "    </tr>\n",
       "    <tr>\n",
       "      <th>7</th>\n",
       "      <td>Talabat: Food Delivery</td>\n",
       "      <td>FOOD_AND_DRINK</td>\n",
       "      <td>4.495084763</td>\n",
       "      <td>142618</td>\n",
       "      <td>5,000,000+</td>\n",
       "      <td>Varies with device</td>\n",
       "      <td>0</td>\n",
       "      <td>Everyone</td>\n",
       "      <td>March 31, 2019</td>\n",
       "      <td>Varies with device</td>\n",
       "      <td>Varies with device</td>\n",
       "    </tr>\n",
       "    <tr>\n",
       "      <th>8</th>\n",
       "      <td>Fast Food Locator | Worldwide Fast Food Finder</td>\n",
       "      <td>TRAVEL_AND_LOCAL</td>\n",
       "      <td>3.811764717</td>\n",
       "      <td>85</td>\n",
       "      <td>10,000+</td>\n",
       "      <td>4.1M</td>\n",
       "      <td>0</td>\n",
       "      <td>Everyone</td>\n",
       "      <td>February 10, 2019</td>\n",
       "      <td>4.3 and up</td>\n",
       "      <td>2.4</td>\n",
       "    </tr>\n",
       "    <tr>\n",
       "      <th>9</th>\n",
       "      <td>Allrecipes Dinner Spinner</td>\n",
       "      <td>FOOD_AND_DRINK</td>\n",
       "      <td>4.545353413</td>\n",
       "      <td>67514</td>\n",
       "      <td>5,000,000+</td>\n",
       "      <td>Varies with device</td>\n",
       "      <td>0</td>\n",
       "      <td>Everyone</td>\n",
       "      <td>March 7, 2019</td>\n",
       "      <td>Varies with device</td>\n",
       "      <td>Varies with device</td>\n",
       "    </tr>\n",
       "  </tbody>\n",
       "</table>\n",
       "</div>"
      ],
      "text/plain": [
       "                                            App Name          Category  \\\n",
       "0                           DoorDash - Food Delivery    FOOD_AND_DRINK   \n",
       "1  TripAdvisor Hotels Flights Restaurants Attract...  TRAVEL_AND_LOCAL   \n",
       "2                                             Peapod          SHOPPING   \n",
       "3                    foodpanda - Local Food Delivery    FOOD_AND_DRINK   \n",
       "4                          My CookBook Pro (Ad Free)    FOOD_AND_DRINK   \n",
       "5                            Safeway Online Shopping    FOOD_AND_DRINK   \n",
       "6              Yelp: Food, Shopping, Services Nearby  TRAVEL_AND_LOCAL   \n",
       "7                             Talabat: Food Delivery    FOOD_AND_DRINK   \n",
       "8     Fast Food Locator | Worldwide Fast Food Finder  TRAVEL_AND_LOCAL   \n",
       "9                          Allrecipes Dinner Spinner    FOOD_AND_DRINK   \n",
       "\n",
       "        Rating      Reviews      Installs                Size  Price  \\\n",
       "0  4.548561573       305034    5,000,000+  Varies with device      0   \n",
       "1  4.400671482  1.20792e+06  100,000,000+  Varies with device      0   \n",
       "2  3.656329393         1967      100,000+                1.4M      0   \n",
       "3  4.107232571       389154   10,000,000+                 16M      0   \n",
       "4  4.647752285         2291       10,000+  Varies with device  $5.99   \n",
       "5   3.82532239         2559      100,000+                 23M      0   \n",
       "6  4.267267704       421918   10,000,000+  Varies with device      0   \n",
       "7  4.495084763       142618    5,000,000+  Varies with device      0   \n",
       "8  3.811764717           85       10,000+                4.1M      0   \n",
       "9  4.545353413        67514    5,000,000+  Varies with device      0   \n",
       "\n",
       "  Content Rating        Last Updated     Minimum Version      Latest Version  \n",
       "0       Everyone      March 29, 2019  Varies with device  Varies with device  \n",
       "1       Everyone      March 29, 2019  Varies with device  Varies with device  \n",
       "2       Everyone  September 20, 2018          5.0 and up               2.2.0  \n",
       "3       Everyone      March 22, 2019          4.2 and up              4.18.2  \n",
       "4       Everyone       April 1, 2019  Varies with device  Varies with device  \n",
       "5       Everyone      March 29, 2019          5.0 and up               7.6.0  \n",
       "6           Teen      March 28, 2019  Varies with device  Varies with device  \n",
       "7       Everyone      March 31, 2019  Varies with device  Varies with device  \n",
       "8       Everyone   February 10, 2019          4.3 and up                 2.4  \n",
       "9       Everyone       March 7, 2019  Varies with device  Varies with device  "
      ]
     },
     "execution_count": 3,
     "metadata": {},
     "output_type": "execute_result"
    }
   ],
   "source": [
    "df_PlayStore = pd.read_csv('google-playstore-apps/Google-Playstore-Full.csv')\n",
    "\n",
    "# columns with most NaN cells\n",
    "Uncolumns = ['Unnamed: 11', 'Unnamed: 12', 'Unnamed: 13','Unnamed: 14']\n",
    "\n",
    "df_PlayStore = deleteSomeColumns(Uncolumns,df_PlayStore )\n",
    "\n",
    "df_PlayStore.head(10)"
   ]
  },
  {
   "cell_type": "markdown",
   "metadata": {},
   "source": [
    "# Only Games"
   ]
  },
  {
   "cell_type": "code",
   "execution_count": 4,
   "metadata": {},
   "outputs": [
    {
     "name": "stdout",
     "output_type": "stream",
     "text": [
      "['GAME_ACTION', 'GAME_CASUAL', 'GAME_ROLE_PLAYING', 'GAME_PUZZLE', 'GAME_RACING', 'GAME_ADVENTURE', 'GAME_ARCADE', 'GAME_STRATEGY', 'GAME_SPORTS', 'GAME_SIMULATION', 'GAME_MUSIC', 'GAME_EDUCATIONAL', 'GAME_WORD', 'GAME_TRIVIA', 'GAME_BOARD', 'GAME_CASINO', 'GAME_CARD']\n"
     ]
    }
   ],
   "source": [
    "games = categoryOnly(df_PlayStore,\"GAME\")\n",
    "print(games)"
   ]
  },
  {
   "cell_type": "code",
   "execution_count": 5,
   "metadata": {},
   "outputs": [
    {
     "name": "stdout",
     "output_type": "stream",
     "text": [
      "22508.0\n"
     ]
    }
   ],
   "source": [
    "df_Games = dfOnly(df_PlayStore,games )\n",
    "print(sizeDF(df_Games))"
   ]
  },
  {
   "cell_type": "markdown",
   "metadata": {},
   "source": [
    "# Only Free Games"
   ]
  },
  {
   "cell_type": "code",
   "execution_count": 6,
   "metadata": {},
   "outputs": [
    {
     "name": "stdout",
     "output_type": "stream",
     "text": [
      "19586.0\n"
     ]
    }
   ],
   "source": [
    "df_Games = FreeGames(df_Games)\n",
    "print(sizeDF(df_Games))"
   ]
  },
  {
   "cell_type": "code",
   "execution_count": 7,
   "metadata": {},
   "outputs": [
    {
     "data": {
      "text/html": [
       "<div>\n",
       "<style scoped>\n",
       "    .dataframe tbody tr th:only-of-type {\n",
       "        vertical-align: middle;\n",
       "    }\n",
       "\n",
       "    .dataframe tbody tr th {\n",
       "        vertical-align: top;\n",
       "    }\n",
       "\n",
       "    .dataframe thead th {\n",
       "        text-align: right;\n",
       "    }\n",
       "</style>\n",
       "<table border=\"1\" class=\"dataframe\">\n",
       "  <thead>\n",
       "    <tr style=\"text-align: right;\">\n",
       "      <th></th>\n",
       "      <th>App Name</th>\n",
       "      <th>Category</th>\n",
       "      <th>Rating</th>\n",
       "      <th>Reviews</th>\n",
       "      <th>Installs</th>\n",
       "      <th>Size</th>\n",
       "      <th>Price</th>\n",
       "      <th>Content Rating</th>\n",
       "      <th>Last Updated</th>\n",
       "      <th>Minimum Version</th>\n",
       "      <th>Latest Version</th>\n",
       "    </tr>\n",
       "  </thead>\n",
       "  <tbody>\n",
       "    <tr>\n",
       "      <th>0</th>\n",
       "      <td>King of Crabs</td>\n",
       "      <td>GAME_ACTION</td>\n",
       "      <td>3.280254841</td>\n",
       "      <td>785</td>\n",
       "      <td>500,000+</td>\n",
       "      <td>72M</td>\n",
       "      <td>0</td>\n",
       "      <td>Everyone 10+</td>\n",
       "      <td>March 7, 2019</td>\n",
       "      <td>4.4 and up</td>\n",
       "      <td>1.0.8</td>\n",
       "    </tr>\n",
       "    <tr>\n",
       "      <th>1</th>\n",
       "      <td>FRAG Pro Shooter</td>\n",
       "      <td>GAME_ACTION</td>\n",
       "      <td>4.510839939</td>\n",
       "      <td>76662</td>\n",
       "      <td>5,000,000+</td>\n",
       "      <td>99M</td>\n",
       "      <td>0</td>\n",
       "      <td>Teen</td>\n",
       "      <td>March 21, 2019</td>\n",
       "      <td>4.3 and up</td>\n",
       "      <td>1.3.4</td>\n",
       "    </tr>\n",
       "    <tr>\n",
       "      <th>2</th>\n",
       "      <td>Super Brawl Universe</td>\n",
       "      <td>GAME_ACTION</td>\n",
       "      <td>3.789777994</td>\n",
       "      <td>6398</td>\n",
       "      <td>500,000+</td>\n",
       "      <td>58M</td>\n",
       "      <td>0</td>\n",
       "      <td>Everyone 10+</td>\n",
       "      <td>March 25, 2019</td>\n",
       "      <td>4.4 and up</td>\n",
       "      <td>2.05</td>\n",
       "    </tr>\n",
       "    <tr>\n",
       "      <th>3</th>\n",
       "      <td>Mountain Sniper 3D Shooter</td>\n",
       "      <td>GAME_ACTION</td>\n",
       "      <td>4.065671444</td>\n",
       "      <td>670</td>\n",
       "      <td>100,000+</td>\n",
       "      <td>64M</td>\n",
       "      <td>0</td>\n",
       "      <td>Teen</td>\n",
       "      <td>March 29, 2019</td>\n",
       "      <td>4.0.3 and up</td>\n",
       "      <td>0.5</td>\n",
       "    </tr>\n",
       "    <tr>\n",
       "      <th>4</th>\n",
       "      <td>Football Field Kick</td>\n",
       "      <td>GAME_ACTION</td>\n",
       "      <td>4.5</td>\n",
       "      <td>564</td>\n",
       "      <td>50,000+</td>\n",
       "      <td>24M</td>\n",
       "      <td>0</td>\n",
       "      <td>Everyone</td>\n",
       "      <td>March 29, 2019</td>\n",
       "      <td>4.0 and up</td>\n",
       "      <td>1.05</td>\n",
       "    </tr>\n",
       "  </tbody>\n",
       "</table>\n",
       "</div>"
      ],
      "text/plain": [
       "                     App Name     Category       Rating Reviews    Installs  \\\n",
       "0               King of Crabs  GAME_ACTION  3.280254841     785    500,000+   \n",
       "1            FRAG Pro Shooter  GAME_ACTION  4.510839939   76662  5,000,000+   \n",
       "2        Super Brawl Universe  GAME_ACTION  3.789777994    6398    500,000+   \n",
       "3  Mountain Sniper 3D Shooter  GAME_ACTION  4.065671444     670    100,000+   \n",
       "4         Football Field Kick  GAME_ACTION          4.5     564     50,000+   \n",
       "\n",
       "  Size Price Content Rating    Last Updated Minimum Version Latest Version  \n",
       "0  72M     0   Everyone 10+   March 7, 2019      4.4 and up          1.0.8  \n",
       "1  99M     0           Teen  March 21, 2019      4.3 and up          1.3.4  \n",
       "2  58M     0   Everyone 10+  March 25, 2019      4.4 and up           2.05  \n",
       "3  64M     0           Teen  March 29, 2019    4.0.3 and up            0.5  \n",
       "4  24M     0       Everyone  March 29, 2019      4.0 and up           1.05  "
      ]
     },
     "execution_count": 7,
     "metadata": {},
     "output_type": "execute_result"
    }
   ],
   "source": [
    "df_Games.head()"
   ]
  },
  {
   "cell_type": "markdown",
   "metadata": {},
   "source": [
    "# Most Popular Free Games"
   ]
  },
  {
   "cell_type": "code",
   "execution_count": 8,
   "metadata": {},
   "outputs": [
    {
     "name": "stdout",
     "output_type": "stream",
     "text": [
      "{'500,000+': 1575, '5,000,000+': 1098, '100,000+': 3258, '50,000+': 1153, '10,000+': 2308, '1,000,000+': 3329, '10,000,000+': 1239, '50,000,000+': 178, '100,000,000+': 90, '500,000,000+': 6, '50+': 345, '1,000+': 1762, '5,000+': 881, '100+': 1153, '500+': 646, '10+': 458, '5+': 65, '0+': 5, '1+': 36, '1,000,000,000+': 1}\n"
     ]
    }
   ],
   "source": [
    "def qtdInstalls(df_Games):\n",
    "    dictInstall = {}\n",
    "    for i in df_Games['Installs']:\n",
    "        if i in dictInstall:\n",
    "            dictInstall[i] +=1\n",
    "        else:\n",
    "            dictInstall[i] = 1\n",
    "    print(dictInstall)\n",
    "\n",
    "qtdInstalls(df_Games)"
   ]
  },
  {
   "cell_type": "code",
   "execution_count": 9,
   "metadata": {},
   "outputs": [
    {
     "ename": "KeyError",
     "evalue": "14",
     "output_type": "error",
     "traceback": [
      "\u001b[0;31m---------------------------------------------------------------------------\u001b[0m",
      "\u001b[0;31mKeyError\u001b[0m                                  Traceback (most recent call last)",
      "\u001b[0;32m<ipython-input-9-179708ba518b>\u001b[0m in \u001b[0;36m<module>\u001b[0;34m\u001b[0m\n\u001b[0;32m----> 1\u001b[0;31m \u001b[0mdf_GamesFLOAT\u001b[0m \u001b[0;34m=\u001b[0m \u001b[0mstrToFloat\u001b[0m\u001b[0;34m(\u001b[0m\u001b[0mdf_Games\u001b[0m\u001b[0;34m,\u001b[0m\u001b[0;34m'Installs'\u001b[0m\u001b[0;34m)\u001b[0m\u001b[0;34m\u001b[0m\u001b[0;34m\u001b[0m\u001b[0m\n\u001b[0m",
      "\u001b[0;32m<ipython-input-2-2942f593c270>\u001b[0m in \u001b[0;36mstrToFloat\u001b[0;34m(df, column)\u001b[0m\n\u001b[1;32m     31\u001b[0m     \u001b[0mi\u001b[0m\u001b[0;34m=\u001b[0m\u001b[0;36m0\u001b[0m\u001b[0;34m\u001b[0m\u001b[0;34m\u001b[0m\u001b[0m\n\u001b[1;32m     32\u001b[0m     \u001b[0;32mwhile\u001b[0m \u001b[0mi\u001b[0m \u001b[0;34m<\u001b[0m \u001b[0msizeDF\u001b[0m\u001b[0;34m(\u001b[0m\u001b[0mdf\u001b[0m\u001b[0;34m)\u001b[0m\u001b[0;34m:\u001b[0m\u001b[0;34m\u001b[0m\u001b[0;34m\u001b[0m\u001b[0m\n\u001b[0;32m---> 33\u001b[0;31m         \u001b[0mdf\u001b[0m\u001b[0;34m[\u001b[0m\u001b[0mcolumn\u001b[0m\u001b[0;34m]\u001b[0m\u001b[0;34m[\u001b[0m\u001b[0mi\u001b[0m\u001b[0;34m]\u001b[0m \u001b[0;34m=\u001b[0m \u001b[0mdf\u001b[0m\u001b[0;34m[\u001b[0m\u001b[0mcolumn\u001b[0m\u001b[0;34m]\u001b[0m\u001b[0;34m[\u001b[0m\u001b[0mi\u001b[0m\u001b[0;34m]\u001b[0m\u001b[0;34m.\u001b[0m\u001b[0mreplace\u001b[0m\u001b[0;34m(\u001b[0m\u001b[0;34m'+'\u001b[0m\u001b[0;34m,\u001b[0m\u001b[0;34m''\u001b[0m\u001b[0;34m)\u001b[0m\u001b[0;34m\u001b[0m\u001b[0;34m\u001b[0m\u001b[0m\n\u001b[0m\u001b[1;32m     34\u001b[0m         \u001b[0mdf\u001b[0m\u001b[0;34m[\u001b[0m\u001b[0mcolumn\u001b[0m\u001b[0;34m]\u001b[0m\u001b[0;34m[\u001b[0m\u001b[0mi\u001b[0m\u001b[0;34m]\u001b[0m \u001b[0;34m=\u001b[0m \u001b[0mdf\u001b[0m\u001b[0;34m[\u001b[0m\u001b[0mcolumn\u001b[0m\u001b[0;34m]\u001b[0m\u001b[0;34m[\u001b[0m\u001b[0mi\u001b[0m\u001b[0;34m]\u001b[0m\u001b[0;34m.\u001b[0m\u001b[0mreplace\u001b[0m\u001b[0;34m(\u001b[0m\u001b[0;34m','\u001b[0m\u001b[0;34m,\u001b[0m\u001b[0;34m''\u001b[0m\u001b[0;34m)\u001b[0m\u001b[0;34m\u001b[0m\u001b[0;34m\u001b[0m\u001b[0m\n\u001b[1;32m     35\u001b[0m         \u001b[0;31m#df[column][i] = float(df[column][i])\u001b[0m\u001b[0;34m\u001b[0m\u001b[0;34m\u001b[0m\u001b[0;34m\u001b[0m\u001b[0m\n",
      "\u001b[0;32m~/.local/lib/python3.6/site-packages/pandas/core/series.py\u001b[0m in \u001b[0;36m__getitem__\u001b[0;34m(self, key)\u001b[0m\n\u001b[1;32m    869\u001b[0m         \u001b[0mkey\u001b[0m \u001b[0;34m=\u001b[0m \u001b[0mcom\u001b[0m\u001b[0;34m.\u001b[0m\u001b[0mapply_if_callable\u001b[0m\u001b[0;34m(\u001b[0m\u001b[0mkey\u001b[0m\u001b[0;34m,\u001b[0m \u001b[0mself\u001b[0m\u001b[0;34m)\u001b[0m\u001b[0;34m\u001b[0m\u001b[0;34m\u001b[0m\u001b[0m\n\u001b[1;32m    870\u001b[0m         \u001b[0;32mtry\u001b[0m\u001b[0;34m:\u001b[0m\u001b[0;34m\u001b[0m\u001b[0;34m\u001b[0m\u001b[0m\n\u001b[0;32m--> 871\u001b[0;31m             \u001b[0mresult\u001b[0m \u001b[0;34m=\u001b[0m \u001b[0mself\u001b[0m\u001b[0;34m.\u001b[0m\u001b[0mindex\u001b[0m\u001b[0;34m.\u001b[0m\u001b[0mget_value\u001b[0m\u001b[0;34m(\u001b[0m\u001b[0mself\u001b[0m\u001b[0;34m,\u001b[0m \u001b[0mkey\u001b[0m\u001b[0;34m)\u001b[0m\u001b[0;34m\u001b[0m\u001b[0;34m\u001b[0m\u001b[0m\n\u001b[0m\u001b[1;32m    872\u001b[0m \u001b[0;34m\u001b[0m\u001b[0m\n\u001b[1;32m    873\u001b[0m             \u001b[0;32mif\u001b[0m \u001b[0;32mnot\u001b[0m \u001b[0mis_scalar\u001b[0m\u001b[0;34m(\u001b[0m\u001b[0mresult\u001b[0m\u001b[0;34m)\u001b[0m\u001b[0;34m:\u001b[0m\u001b[0;34m\u001b[0m\u001b[0;34m\u001b[0m\u001b[0m\n",
      "\u001b[0;32m~/.local/lib/python3.6/site-packages/pandas/core/indexes/base.py\u001b[0m in \u001b[0;36mget_value\u001b[0;34m(self, series, key)\u001b[0m\n\u001b[1;32m   4403\u001b[0m         \u001b[0mk\u001b[0m \u001b[0;34m=\u001b[0m \u001b[0mself\u001b[0m\u001b[0;34m.\u001b[0m\u001b[0m_convert_scalar_indexer\u001b[0m\u001b[0;34m(\u001b[0m\u001b[0mk\u001b[0m\u001b[0;34m,\u001b[0m \u001b[0mkind\u001b[0m\u001b[0;34m=\u001b[0m\u001b[0;34m\"getitem\"\u001b[0m\u001b[0;34m)\u001b[0m\u001b[0;34m\u001b[0m\u001b[0;34m\u001b[0m\u001b[0m\n\u001b[1;32m   4404\u001b[0m         \u001b[0;32mtry\u001b[0m\u001b[0;34m:\u001b[0m\u001b[0;34m\u001b[0m\u001b[0;34m\u001b[0m\u001b[0m\n\u001b[0;32m-> 4405\u001b[0;31m             \u001b[0;32mreturn\u001b[0m \u001b[0mself\u001b[0m\u001b[0;34m.\u001b[0m\u001b[0m_engine\u001b[0m\u001b[0;34m.\u001b[0m\u001b[0mget_value\u001b[0m\u001b[0;34m(\u001b[0m\u001b[0ms\u001b[0m\u001b[0;34m,\u001b[0m \u001b[0mk\u001b[0m\u001b[0;34m,\u001b[0m \u001b[0mtz\u001b[0m\u001b[0;34m=\u001b[0m\u001b[0mgetattr\u001b[0m\u001b[0;34m(\u001b[0m\u001b[0mseries\u001b[0m\u001b[0;34m.\u001b[0m\u001b[0mdtype\u001b[0m\u001b[0;34m,\u001b[0m \u001b[0;34m\"tz\"\u001b[0m\u001b[0;34m,\u001b[0m \u001b[0;32mNone\u001b[0m\u001b[0;34m)\u001b[0m\u001b[0;34m)\u001b[0m\u001b[0;34m\u001b[0m\u001b[0;34m\u001b[0m\u001b[0m\n\u001b[0m\u001b[1;32m   4406\u001b[0m         \u001b[0;32mexcept\u001b[0m \u001b[0mKeyError\u001b[0m \u001b[0;32mas\u001b[0m \u001b[0me1\u001b[0m\u001b[0;34m:\u001b[0m\u001b[0;34m\u001b[0m\u001b[0;34m\u001b[0m\u001b[0m\n\u001b[1;32m   4407\u001b[0m             \u001b[0;32mif\u001b[0m \u001b[0mlen\u001b[0m\u001b[0;34m(\u001b[0m\u001b[0mself\u001b[0m\u001b[0;34m)\u001b[0m \u001b[0;34m>\u001b[0m \u001b[0;36m0\u001b[0m \u001b[0;32mand\u001b[0m \u001b[0;34m(\u001b[0m\u001b[0mself\u001b[0m\u001b[0;34m.\u001b[0m\u001b[0mholds_integer\u001b[0m\u001b[0;34m(\u001b[0m\u001b[0;34m)\u001b[0m \u001b[0;32mor\u001b[0m \u001b[0mself\u001b[0m\u001b[0;34m.\u001b[0m\u001b[0mis_boolean\u001b[0m\u001b[0;34m(\u001b[0m\u001b[0;34m)\u001b[0m\u001b[0;34m)\u001b[0m\u001b[0;34m:\u001b[0m\u001b[0;34m\u001b[0m\u001b[0;34m\u001b[0m\u001b[0m\n",
      "\u001b[0;32mpandas/_libs/index.pyx\u001b[0m in \u001b[0;36mpandas._libs.index.IndexEngine.get_value\u001b[0;34m()\u001b[0m\n",
      "\u001b[0;32mpandas/_libs/index.pyx\u001b[0m in \u001b[0;36mpandas._libs.index.IndexEngine.get_value\u001b[0;34m()\u001b[0m\n",
      "\u001b[0;32mpandas/_libs/index.pyx\u001b[0m in \u001b[0;36mpandas._libs.index.IndexEngine.get_loc\u001b[0;34m()\u001b[0m\n",
      "\u001b[0;32mpandas/_libs/hashtable_class_helper.pxi\u001b[0m in \u001b[0;36mpandas._libs.hashtable.Int64HashTable.get_item\u001b[0;34m()\u001b[0m\n",
      "\u001b[0;32mpandas/_libs/hashtable_class_helper.pxi\u001b[0m in \u001b[0;36mpandas._libs.hashtable.Int64HashTable.get_item\u001b[0;34m()\u001b[0m\n",
      "\u001b[0;31mKeyError\u001b[0m: 14"
     ]
    }
   ],
   "source": [
    "df_GamesFLOAT = strToFloat(df_Games,'Installs')"
   ]
  },
  {
   "cell_type": "code",
   "execution_count": null,
   "metadata": {},
   "outputs": [],
   "source": []
  }
 ],
 "metadata": {
  "kernelspec": {
   "display_name": "Python 3",
   "language": "python",
   "name": "python3"
  },
  "language_info": {
   "codemirror_mode": {
    "name": "ipython",
    "version": 3
   },
   "file_extension": ".py",
   "mimetype": "text/x-python",
   "name": "python",
   "nbconvert_exporter": "python",
   "pygments_lexer": "ipython3",
   "version": "3.6.9"
  }
 },
 "nbformat": 4,
 "nbformat_minor": 4
}
